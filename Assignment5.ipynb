{
  "cells": [
    {
      "cell_type": "markdown",
      "metadata": {
        "id": "view-in-github",
        "colab_type": "text"
      },
      "source": [
        "<a href=\"https://colab.research.google.com/github/SidddhantJain/FODS_LAB/blob/main/Assignment5.ipynb\" target=\"_parent\"><img src=\"https://colab.research.google.com/assets/colab-badge.svg\" alt=\"Open In Colab\"/></a>"
      ]
    },
    {
      "cell_type": "code",
      "execution_count": 2,
      "id": "7905acd8-5f78-4b8c-871b-73e4642e26fb",
      "metadata": {
        "id": "7905acd8-5f78-4b8c-871b-73e4642e26fb"
      },
      "outputs": [],
      "source": [
        "import pandas as pd\n",
        "from sklearn.model_selection import train_test_split\n",
        "from sklearn.preprocessing import LabelEncoder, StandardScaler"
      ]
    },
    {
      "cell_type": "code",
      "source": [
        "from google.colab import drive\n",
        "drive.mount('/content/drive')"
      ],
      "metadata": {
        "colab": {
          "base_uri": "https://localhost:8080/"
        },
        "id": "0I8gJLXtGAKs",
        "outputId": "b75c79d4-fb1e-4cc4-dade-348b4732b860"
      },
      "id": "0I8gJLXtGAKs",
      "execution_count": 1,
      "outputs": [
        {
          "output_type": "stream",
          "name": "stdout",
          "text": [
            "Mounted at /content/drive\n"
          ]
        }
      ]
    },
    {
      "cell_type": "code",
      "execution_count": 3,
      "id": "46985028-81f5-4d64-9d66-23ed0120d92f",
      "metadata": {
        "id": "46985028-81f5-4d64-9d66-23ed0120d92f"
      },
      "outputs": [],
      "source": [
        "df=pd.read_csv('/content/drive/MyDrive/Dataset (2)/data_date.csv')"
      ]
    },
    {
      "cell_type": "code",
      "execution_count": 4,
      "id": "d2f65ebe-dcb5-4d49-9205-6ebd42ab9970",
      "metadata": {
        "colab": {
          "base_uri": "https://localhost:8080/",
          "height": 424
        },
        "id": "d2f65ebe-dcb5-4d49-9205-6ebd42ab9970",
        "outputId": "8a64ee30-1467-4c70-a9d8-4d9909fd4c67"
      },
      "outputs": [
        {
          "output_type": "execute_result",
          "data": {
            "text/plain": [
              "             Date                   Country                          Status  \\\n",
              "0      2022-07-21                   Albania                            Good   \n",
              "1      2022-07-21                   Algeria                        Moderate   \n",
              "2      2022-07-21                   Andorra                        Moderate   \n",
              "3      2022-07-21                    Angola  Unhealthy for Sensitive Groups   \n",
              "4      2022-07-21                 Argentina                        Moderate   \n",
              "...           ...                       ...                             ...   \n",
              "15806  2024-10-24  United States of America  Unhealthy for Sensitive Groups   \n",
              "15807  2024-10-24                Uzbekistan                       Unhealthy   \n",
              "15808  2024-10-24                   Vatican                        Moderate   \n",
              "15809  2024-10-24                 Venezuela                            Good   \n",
              "15810  2024-10-24                   Vietnam                        Moderate   \n",
              "\n",
              "       AQI Value  \n",
              "0             14  \n",
              "1             65  \n",
              "2             55  \n",
              "3            113  \n",
              "4             63  \n",
              "...          ...  \n",
              "15806        116  \n",
              "15807        180  \n",
              "15808         53  \n",
              "15809         24  \n",
              "15810         65  \n",
              "\n",
              "[15811 rows x 4 columns]"
            ],
            "text/html": [
              "\n",
              "  <div id=\"df-9aec59c3-3ada-4dda-b30b-d79d8133fc9e\" class=\"colab-df-container\">\n",
              "    <div>\n",
              "<style scoped>\n",
              "    .dataframe tbody tr th:only-of-type {\n",
              "        vertical-align: middle;\n",
              "    }\n",
              "\n",
              "    .dataframe tbody tr th {\n",
              "        vertical-align: top;\n",
              "    }\n",
              "\n",
              "    .dataframe thead th {\n",
              "        text-align: right;\n",
              "    }\n",
              "</style>\n",
              "<table border=\"1\" class=\"dataframe\">\n",
              "  <thead>\n",
              "    <tr style=\"text-align: right;\">\n",
              "      <th></th>\n",
              "      <th>Date</th>\n",
              "      <th>Country</th>\n",
              "      <th>Status</th>\n",
              "      <th>AQI Value</th>\n",
              "    </tr>\n",
              "  </thead>\n",
              "  <tbody>\n",
              "    <tr>\n",
              "      <th>0</th>\n",
              "      <td>2022-07-21</td>\n",
              "      <td>Albania</td>\n",
              "      <td>Good</td>\n",
              "      <td>14</td>\n",
              "    </tr>\n",
              "    <tr>\n",
              "      <th>1</th>\n",
              "      <td>2022-07-21</td>\n",
              "      <td>Algeria</td>\n",
              "      <td>Moderate</td>\n",
              "      <td>65</td>\n",
              "    </tr>\n",
              "    <tr>\n",
              "      <th>2</th>\n",
              "      <td>2022-07-21</td>\n",
              "      <td>Andorra</td>\n",
              "      <td>Moderate</td>\n",
              "      <td>55</td>\n",
              "    </tr>\n",
              "    <tr>\n",
              "      <th>3</th>\n",
              "      <td>2022-07-21</td>\n",
              "      <td>Angola</td>\n",
              "      <td>Unhealthy for Sensitive Groups</td>\n",
              "      <td>113</td>\n",
              "    </tr>\n",
              "    <tr>\n",
              "      <th>4</th>\n",
              "      <td>2022-07-21</td>\n",
              "      <td>Argentina</td>\n",
              "      <td>Moderate</td>\n",
              "      <td>63</td>\n",
              "    </tr>\n",
              "    <tr>\n",
              "      <th>...</th>\n",
              "      <td>...</td>\n",
              "      <td>...</td>\n",
              "      <td>...</td>\n",
              "      <td>...</td>\n",
              "    </tr>\n",
              "    <tr>\n",
              "      <th>15806</th>\n",
              "      <td>2024-10-24</td>\n",
              "      <td>United States of America</td>\n",
              "      <td>Unhealthy for Sensitive Groups</td>\n",
              "      <td>116</td>\n",
              "    </tr>\n",
              "    <tr>\n",
              "      <th>15807</th>\n",
              "      <td>2024-10-24</td>\n",
              "      <td>Uzbekistan</td>\n",
              "      <td>Unhealthy</td>\n",
              "      <td>180</td>\n",
              "    </tr>\n",
              "    <tr>\n",
              "      <th>15808</th>\n",
              "      <td>2024-10-24</td>\n",
              "      <td>Vatican</td>\n",
              "      <td>Moderate</td>\n",
              "      <td>53</td>\n",
              "    </tr>\n",
              "    <tr>\n",
              "      <th>15809</th>\n",
              "      <td>2024-10-24</td>\n",
              "      <td>Venezuela</td>\n",
              "      <td>Good</td>\n",
              "      <td>24</td>\n",
              "    </tr>\n",
              "    <tr>\n",
              "      <th>15810</th>\n",
              "      <td>2024-10-24</td>\n",
              "      <td>Vietnam</td>\n",
              "      <td>Moderate</td>\n",
              "      <td>65</td>\n",
              "    </tr>\n",
              "  </tbody>\n",
              "</table>\n",
              "<p>15811 rows × 4 columns</p>\n",
              "</div>\n",
              "    <div class=\"colab-df-buttons\">\n",
              "\n",
              "  <div class=\"colab-df-container\">\n",
              "    <button class=\"colab-df-convert\" onclick=\"convertToInteractive('df-9aec59c3-3ada-4dda-b30b-d79d8133fc9e')\"\n",
              "            title=\"Convert this dataframe to an interactive table.\"\n",
              "            style=\"display:none;\">\n",
              "\n",
              "  <svg xmlns=\"http://www.w3.org/2000/svg\" height=\"24px\" viewBox=\"0 -960 960 960\">\n",
              "    <path d=\"M120-120v-720h720v720H120Zm60-500h600v-160H180v160Zm220 220h160v-160H400v160Zm0 220h160v-160H400v160ZM180-400h160v-160H180v160Zm440 0h160v-160H620v160ZM180-180h160v-160H180v160Zm440 0h160v-160H620v160Z\"/>\n",
              "  </svg>\n",
              "    </button>\n",
              "\n",
              "  <style>\n",
              "    .colab-df-container {\n",
              "      display:flex;\n",
              "      gap: 12px;\n",
              "    }\n",
              "\n",
              "    .colab-df-convert {\n",
              "      background-color: #E8F0FE;\n",
              "      border: none;\n",
              "      border-radius: 50%;\n",
              "      cursor: pointer;\n",
              "      display: none;\n",
              "      fill: #1967D2;\n",
              "      height: 32px;\n",
              "      padding: 0 0 0 0;\n",
              "      width: 32px;\n",
              "    }\n",
              "\n",
              "    .colab-df-convert:hover {\n",
              "      background-color: #E2EBFA;\n",
              "      box-shadow: 0px 1px 2px rgba(60, 64, 67, 0.3), 0px 1px 3px 1px rgba(60, 64, 67, 0.15);\n",
              "      fill: #174EA6;\n",
              "    }\n",
              "\n",
              "    .colab-df-buttons div {\n",
              "      margin-bottom: 4px;\n",
              "    }\n",
              "\n",
              "    [theme=dark] .colab-df-convert {\n",
              "      background-color: #3B4455;\n",
              "      fill: #D2E3FC;\n",
              "    }\n",
              "\n",
              "    [theme=dark] .colab-df-convert:hover {\n",
              "      background-color: #434B5C;\n",
              "      box-shadow: 0px 1px 3px 1px rgba(0, 0, 0, 0.15);\n",
              "      filter: drop-shadow(0px 1px 2px rgba(0, 0, 0, 0.3));\n",
              "      fill: #FFFFFF;\n",
              "    }\n",
              "  </style>\n",
              "\n",
              "    <script>\n",
              "      const buttonEl =\n",
              "        document.querySelector('#df-9aec59c3-3ada-4dda-b30b-d79d8133fc9e button.colab-df-convert');\n",
              "      buttonEl.style.display =\n",
              "        google.colab.kernel.accessAllowed ? 'block' : 'none';\n",
              "\n",
              "      async function convertToInteractive(key) {\n",
              "        const element = document.querySelector('#df-9aec59c3-3ada-4dda-b30b-d79d8133fc9e');\n",
              "        const dataTable =\n",
              "          await google.colab.kernel.invokeFunction('convertToInteractive',\n",
              "                                                    [key], {});\n",
              "        if (!dataTable) return;\n",
              "\n",
              "        const docLinkHtml = 'Like what you see? Visit the ' +\n",
              "          '<a target=\"_blank\" href=https://colab.research.google.com/notebooks/data_table.ipynb>data table notebook</a>'\n",
              "          + ' to learn more about interactive tables.';\n",
              "        element.innerHTML = '';\n",
              "        dataTable['output_type'] = 'display_data';\n",
              "        await google.colab.output.renderOutput(dataTable, element);\n",
              "        const docLink = document.createElement('div');\n",
              "        docLink.innerHTML = docLinkHtml;\n",
              "        element.appendChild(docLink);\n",
              "      }\n",
              "    </script>\n",
              "  </div>\n",
              "\n",
              "\n",
              "<div id=\"df-1e6039aa-08f0-47fe-a4c5-00f6ac0076e0\">\n",
              "  <button class=\"colab-df-quickchart\" onclick=\"quickchart('df-1e6039aa-08f0-47fe-a4c5-00f6ac0076e0')\"\n",
              "            title=\"Suggest charts\"\n",
              "            style=\"display:none;\">\n",
              "\n",
              "<svg xmlns=\"http://www.w3.org/2000/svg\" height=\"24px\"viewBox=\"0 0 24 24\"\n",
              "     width=\"24px\">\n",
              "    <g>\n",
              "        <path d=\"M19 3H5c-1.1 0-2 .9-2 2v14c0 1.1.9 2 2 2h14c1.1 0 2-.9 2-2V5c0-1.1-.9-2-2-2zM9 17H7v-7h2v7zm4 0h-2V7h2v10zm4 0h-2v-4h2v4z\"/>\n",
              "    </g>\n",
              "</svg>\n",
              "  </button>\n",
              "\n",
              "<style>\n",
              "  .colab-df-quickchart {\n",
              "      --bg-color: #E8F0FE;\n",
              "      --fill-color: #1967D2;\n",
              "      --hover-bg-color: #E2EBFA;\n",
              "      --hover-fill-color: #174EA6;\n",
              "      --disabled-fill-color: #AAA;\n",
              "      --disabled-bg-color: #DDD;\n",
              "  }\n",
              "\n",
              "  [theme=dark] .colab-df-quickchart {\n",
              "      --bg-color: #3B4455;\n",
              "      --fill-color: #D2E3FC;\n",
              "      --hover-bg-color: #434B5C;\n",
              "      --hover-fill-color: #FFFFFF;\n",
              "      --disabled-bg-color: #3B4455;\n",
              "      --disabled-fill-color: #666;\n",
              "  }\n",
              "\n",
              "  .colab-df-quickchart {\n",
              "    background-color: var(--bg-color);\n",
              "    border: none;\n",
              "    border-radius: 50%;\n",
              "    cursor: pointer;\n",
              "    display: none;\n",
              "    fill: var(--fill-color);\n",
              "    height: 32px;\n",
              "    padding: 0;\n",
              "    width: 32px;\n",
              "  }\n",
              "\n",
              "  .colab-df-quickchart:hover {\n",
              "    background-color: var(--hover-bg-color);\n",
              "    box-shadow: 0 1px 2px rgba(60, 64, 67, 0.3), 0 1px 3px 1px rgba(60, 64, 67, 0.15);\n",
              "    fill: var(--button-hover-fill-color);\n",
              "  }\n",
              "\n",
              "  .colab-df-quickchart-complete:disabled,\n",
              "  .colab-df-quickchart-complete:disabled:hover {\n",
              "    background-color: var(--disabled-bg-color);\n",
              "    fill: var(--disabled-fill-color);\n",
              "    box-shadow: none;\n",
              "  }\n",
              "\n",
              "  .colab-df-spinner {\n",
              "    border: 2px solid var(--fill-color);\n",
              "    border-color: transparent;\n",
              "    border-bottom-color: var(--fill-color);\n",
              "    animation:\n",
              "      spin 1s steps(1) infinite;\n",
              "  }\n",
              "\n",
              "  @keyframes spin {\n",
              "    0% {\n",
              "      border-color: transparent;\n",
              "      border-bottom-color: var(--fill-color);\n",
              "      border-left-color: var(--fill-color);\n",
              "    }\n",
              "    20% {\n",
              "      border-color: transparent;\n",
              "      border-left-color: var(--fill-color);\n",
              "      border-top-color: var(--fill-color);\n",
              "    }\n",
              "    30% {\n",
              "      border-color: transparent;\n",
              "      border-left-color: var(--fill-color);\n",
              "      border-top-color: var(--fill-color);\n",
              "      border-right-color: var(--fill-color);\n",
              "    }\n",
              "    40% {\n",
              "      border-color: transparent;\n",
              "      border-right-color: var(--fill-color);\n",
              "      border-top-color: var(--fill-color);\n",
              "    }\n",
              "    60% {\n",
              "      border-color: transparent;\n",
              "      border-right-color: var(--fill-color);\n",
              "    }\n",
              "    80% {\n",
              "      border-color: transparent;\n",
              "      border-right-color: var(--fill-color);\n",
              "      border-bottom-color: var(--fill-color);\n",
              "    }\n",
              "    90% {\n",
              "      border-color: transparent;\n",
              "      border-bottom-color: var(--fill-color);\n",
              "    }\n",
              "  }\n",
              "</style>\n",
              "\n",
              "  <script>\n",
              "    async function quickchart(key) {\n",
              "      const quickchartButtonEl =\n",
              "        document.querySelector('#' + key + ' button');\n",
              "      quickchartButtonEl.disabled = true;  // To prevent multiple clicks.\n",
              "      quickchartButtonEl.classList.add('colab-df-spinner');\n",
              "      try {\n",
              "        const charts = await google.colab.kernel.invokeFunction(\n",
              "            'suggestCharts', [key], {});\n",
              "      } catch (error) {\n",
              "        console.error('Error during call to suggestCharts:', error);\n",
              "      }\n",
              "      quickchartButtonEl.classList.remove('colab-df-spinner');\n",
              "      quickchartButtonEl.classList.add('colab-df-quickchart-complete');\n",
              "    }\n",
              "    (() => {\n",
              "      let quickchartButtonEl =\n",
              "        document.querySelector('#df-1e6039aa-08f0-47fe-a4c5-00f6ac0076e0 button');\n",
              "      quickchartButtonEl.style.display =\n",
              "        google.colab.kernel.accessAllowed ? 'block' : 'none';\n",
              "    })();\n",
              "  </script>\n",
              "</div>\n",
              "\n",
              "  <div id=\"id_b59c98e1-9d58-4ddf-afff-f523b6ef320e\">\n",
              "    <style>\n",
              "      .colab-df-generate {\n",
              "        background-color: #E8F0FE;\n",
              "        border: none;\n",
              "        border-radius: 50%;\n",
              "        cursor: pointer;\n",
              "        display: none;\n",
              "        fill: #1967D2;\n",
              "        height: 32px;\n",
              "        padding: 0 0 0 0;\n",
              "        width: 32px;\n",
              "      }\n",
              "\n",
              "      .colab-df-generate:hover {\n",
              "        background-color: #E2EBFA;\n",
              "        box-shadow: 0px 1px 2px rgba(60, 64, 67, 0.3), 0px 1px 3px 1px rgba(60, 64, 67, 0.15);\n",
              "        fill: #174EA6;\n",
              "      }\n",
              "\n",
              "      [theme=dark] .colab-df-generate {\n",
              "        background-color: #3B4455;\n",
              "        fill: #D2E3FC;\n",
              "      }\n",
              "\n",
              "      [theme=dark] .colab-df-generate:hover {\n",
              "        background-color: #434B5C;\n",
              "        box-shadow: 0px 1px 3px 1px rgba(0, 0, 0, 0.15);\n",
              "        filter: drop-shadow(0px 1px 2px rgba(0, 0, 0, 0.3));\n",
              "        fill: #FFFFFF;\n",
              "      }\n",
              "    </style>\n",
              "    <button class=\"colab-df-generate\" onclick=\"generateWithVariable('df')\"\n",
              "            title=\"Generate code using this dataframe.\"\n",
              "            style=\"display:none;\">\n",
              "\n",
              "  <svg xmlns=\"http://www.w3.org/2000/svg\" height=\"24px\"viewBox=\"0 0 24 24\"\n",
              "       width=\"24px\">\n",
              "    <path d=\"M7,19H8.4L18.45,9,17,7.55,7,17.6ZM5,21V16.75L18.45,3.32a2,2,0,0,1,2.83,0l1.4,1.43a1.91,1.91,0,0,1,.58,1.4,1.91,1.91,0,0,1-.58,1.4L9.25,21ZM18.45,9,17,7.55Zm-12,3A5.31,5.31,0,0,0,4.9,8.1,5.31,5.31,0,0,0,1,6.5,5.31,5.31,0,0,0,4.9,4.9,5.31,5.31,0,0,0,6.5,1,5.31,5.31,0,0,0,8.1,4.9,5.31,5.31,0,0,0,12,6.5,5.46,5.46,0,0,0,6.5,12Z\"/>\n",
              "  </svg>\n",
              "    </button>\n",
              "    <script>\n",
              "      (() => {\n",
              "      const buttonEl =\n",
              "        document.querySelector('#id_b59c98e1-9d58-4ddf-afff-f523b6ef320e button.colab-df-generate');\n",
              "      buttonEl.style.display =\n",
              "        google.colab.kernel.accessAllowed ? 'block' : 'none';\n",
              "\n",
              "      buttonEl.onclick = () => {\n",
              "        google.colab.notebook.generateWithVariable('df');\n",
              "      }\n",
              "      })();\n",
              "    </script>\n",
              "  </div>\n",
              "\n",
              "    </div>\n",
              "  </div>\n"
            ],
            "application/vnd.google.colaboratory.intrinsic+json": {
              "type": "dataframe",
              "variable_name": "df",
              "summary": "{\n  \"name\": \"df\",\n  \"rows\": 15811,\n  \"fields\": [\n    {\n      \"column\": \"Date\",\n      \"properties\": {\n        \"dtype\": \"object\",\n        \"num_unique_values\": 106,\n        \"samples\": [\n          \"2024-09-19\",\n          \"2022-07-31\",\n          \"2022-07-25\"\n        ],\n        \"semantic_type\": \"\",\n        \"description\": \"\"\n      }\n    },\n    {\n      \"column\": \"Country\",\n      \"properties\": {\n        \"dtype\": \"category\",\n        \"num_unique_values\": 142,\n        \"samples\": [\n          \"Turkmenistan\",\n          \"Bulgaria\",\n          \"Luxembourg\"\n        ],\n        \"semantic_type\": \"\",\n        \"description\": \"\"\n      }\n    },\n    {\n      \"column\": \"Status\",\n      \"properties\": {\n        \"dtype\": \"category\",\n        \"num_unique_values\": 6,\n        \"samples\": [\n          \"Good\",\n          \"Moderate\",\n          \"Hazardous\"\n        ],\n        \"semantic_type\": \"\",\n        \"description\": \"\"\n      }\n    },\n    {\n      \"column\": \"AQI Value\",\n      \"properties\": {\n        \"dtype\": \"number\",\n        \"std\": 48,\n        \"min\": 1,\n        \"max\": 963,\n        \"num_unique_values\": 315,\n        \"samples\": [\n          195,\n          86,\n          140\n        ],\n        \"semantic_type\": \"\",\n        \"description\": \"\"\n      }\n    }\n  ]\n}"
            }
          },
          "metadata": {},
          "execution_count": 4
        }
      ],
      "source": [
        "df"
      ]
    },
    {
      "cell_type": "code",
      "execution_count": 5,
      "id": "1355acd0-23fd-48d4-be94-acdc59e55c96",
      "metadata": {
        "id": "1355acd0-23fd-48d4-be94-acdc59e55c96"
      },
      "outputs": [],
      "source": [
        "data_cleaned=df.dropna()"
      ]
    },
    {
      "cell_type": "code",
      "execution_count": 6,
      "id": "fd3b3afa-5b6c-4110-a717-6c16ae38de85",
      "metadata": {
        "id": "fd3b3afa-5b6c-4110-a717-6c16ae38de85"
      },
      "outputs": [],
      "source": [
        "data_cleaned['Date'] = pd.to_datetime(data_cleaned['Date'])"
      ]
    },
    {
      "cell_type": "code",
      "execution_count": 7,
      "id": "25b58237-ec8d-41e3-bd5c-ae8198fd281e",
      "metadata": {
        "id": "25b58237-ec8d-41e3-bd5c-ae8198fd281e"
      },
      "outputs": [],
      "source": [
        "data_cleaned['Year'] = data_cleaned['Date'].dt.year\n",
        "data_cleaned['Month'] = data_cleaned['Date'].dt.month\n",
        "data_cleaned['Day'] = data_cleaned['Date'].dt.day"
      ]
    },
    {
      "cell_type": "code",
      "execution_count": 8,
      "id": "8da9eb2f-fab9-445d-b918-7e363278fc6b",
      "metadata": {
        "id": "8da9eb2f-fab9-445d-b918-7e363278fc6b"
      },
      "outputs": [],
      "source": [
        "data_cleaned = data_cleaned.drop(columns=['Date'])"
      ]
    },
    {
      "cell_type": "code",
      "execution_count": 9,
      "id": "927eb88e-dc65-49a7-8203-86ac76da1bd0",
      "metadata": {
        "id": "927eb88e-dc65-49a7-8203-86ac76da1bd0"
      },
      "outputs": [],
      "source": [
        "label_encoder_country = LabelEncoder()\n",
        "label_encoder_status = LabelEncoder()"
      ]
    },
    {
      "cell_type": "code",
      "execution_count": 10,
      "id": "659b4604-6572-4db8-8539-b40a80e91a85",
      "metadata": {
        "id": "659b4604-6572-4db8-8539-b40a80e91a85"
      },
      "outputs": [],
      "source": [
        "data_cleaned['Country'] = label_encoder_country.fit_transform(data_cleaned['Country'])\n",
        "data_cleaned['Status'] = label_encoder_status.fit_transform(data_cleaned['Status'])"
      ]
    },
    {
      "cell_type": "code",
      "execution_count": 11,
      "id": "ce156caf-4f94-49cb-9e36-3163b55c48ad",
      "metadata": {
        "id": "ce156caf-4f94-49cb-9e36-3163b55c48ad"
      },
      "outputs": [],
      "source": [
        "scaler = StandardScaler()\n",
        "data_cleaned['AQI Value'] = scaler.fit_transform(data_cleaned[['AQI Value']])"
      ]
    },
    {
      "cell_type": "code",
      "execution_count": 12,
      "id": "7ee0acc0-002f-4647-9f85-dbde93606b76",
      "metadata": {
        "id": "7ee0acc0-002f-4647-9f85-dbde93606b76"
      },
      "outputs": [],
      "source": [
        "X = data_cleaned.drop(columns=['AQI Value'])\n",
        "y = data_cleaned['AQI Value']"
      ]
    },
    {
      "cell_type": "code",
      "execution_count": 13,
      "id": "79d43e36-e7dc-431a-a9b9-c655ee0effe6",
      "metadata": {
        "id": "79d43e36-e7dc-431a-a9b9-c655ee0effe6"
      },
      "outputs": [],
      "source": [
        "# Split the data into training and testing sets (80% training, 20% testing)\n",
        "X_train, X_test, y_train, y_test = train_test_split(X, y, test_size=0.2, random_state=42)"
      ]
    },
    {
      "cell_type": "raw",
      "id": "4501cbb6-1e0e-4d82-b06d-c9253a47f6c2",
      "metadata": {
        "id": "4501cbb6-1e0e-4d82-b06d-c9253a47f6c2"
      },
      "source": [
        "# Display the first few rows of the cleaned and preprocessed data\n",
        "print(data_cleaned.head())"
      ]
    },
    {
      "cell_type": "code",
      "execution_count": 14,
      "id": "4007654e-3d69-481b-83ef-648e5ad232d7",
      "metadata": {
        "colab": {
          "base_uri": "https://localhost:8080/"
        },
        "id": "4007654e-3d69-481b-83ef-648e5ad232d7",
        "outputId": "526e0ae9-6cab-44eb-cc99-b6c3ca7a4a7d"
      },
      "outputs": [
        {
          "output_type": "stream",
          "name": "stdout",
          "text": [
            "       Country  Status  AQI Value  Year  Month  Day\n",
            "0            0       0  -0.984233  2022      7   21\n",
            "1            1       2   0.069308  2022      7   21\n",
            "2            2       2  -0.137269  2022      7   21\n",
            "3            3       4   1.060876  2022      7   21\n",
            "4            4       2   0.027993  2022      7   21\n",
            "...        ...     ...        ...   ...    ...  ...\n",
            "15806      136       4   1.122849  2024     10   24\n",
            "15807      137       3   2.444940  2024     10   24\n",
            "15808      138       2  -0.178584  2024     10   24\n",
            "15809      139       0  -0.777657  2024     10   24\n",
            "15810      140       2   0.069308  2024     10   24\n",
            "\n",
            "[15811 rows x 6 columns]\n"
          ]
        }
      ],
      "source": [
        "print(data_cleaned)"
      ]
    },
    {
      "cell_type": "code",
      "execution_count": null,
      "id": "d9655927-1a0a-405a-afa2-0763e79de15a",
      "metadata": {
        "id": "d9655927-1a0a-405a-afa2-0763e79de15a"
      },
      "outputs": [],
      "source": []
    }
  ],
  "metadata": {
    "kernelspec": {
      "display_name": "Python 3 (ipykernel)",
      "language": "python",
      "name": "python3"
    },
    "language_info": {
      "codemirror_mode": {
        "name": "ipython",
        "version": 3
      },
      "file_extension": ".py",
      "mimetype": "text/x-python",
      "name": "python",
      "nbconvert_exporter": "python",
      "pygments_lexer": "ipython3",
      "version": "3.12.4"
    },
    "colab": {
      "provenance": [],
      "include_colab_link": true
    }
  },
  "nbformat": 4,
  "nbformat_minor": 5
}